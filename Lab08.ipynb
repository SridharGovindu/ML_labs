{
 "cells": [
  {
   "cell_type": "code",
   "execution_count": null,
   "id": "975e9cc5-8cdf-4ac0-8950-3915a07c3e4a",
   "metadata": {},
   "outputs": [],
   "source": []
  }
 ],
 "metadata": {
  "kernelspec": {
   "display_name": "",
   "name": ""
  },
  "language_info": {
   "name": ""
  }
 },
 "nbformat": 4,
 "nbformat_minor": 5
}
