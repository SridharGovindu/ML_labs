{
 "cells": [
  {
   "cell_type": "code",
   "execution_count": null,
   "id": "5aa1762d-567b-4845-adaf-0e8985b33338",
   "metadata": {},
   "outputs": [],
   "source": []
  }
 ],
 "metadata": {
  "kernelspec": {
   "display_name": "",
   "name": ""
  },
  "language_info": {
   "name": ""
  }
 },
 "nbformat": 4,
 "nbformat_minor": 5
}
